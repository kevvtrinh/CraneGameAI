{
 "cells": [
  {
   "cell_type": "markdown",
   "id": "57b703f2",
   "metadata": {},
   "source": [
    "# Final Project Assignment\n",
    "<font size=\"3\">  Created By:</font> \n",
    "\n",
    "<font size=\"4\"> Kevin Trinh, ktrinh2@jhu.edu</font> \n",
    "\n",
    "<font size=\"4\"> Wyatt Myers, </font> \n",
    "\n",
    "<font size=\"4\"> Johns Hopkins University, Engineering For Professionals</font> "
   ]
  },
  {
   "cell_type": "code",
   "execution_count": null,
   "id": "d91d36d4",
   "metadata": {},
   "outputs": [],
   "source": [
    "pip uninstall tensorflow\n",
    "pip install tensorflow-gpu"
   ]
  },
  {
   "cell_type": "code",
   "execution_count": null,
   "id": "8874ff67",
   "metadata": {},
   "outputs": [],
   "source": []
  }
 ],
 "metadata": {
  "kernelspec": {
   "display_name": "Python 3 (ipykernel)",
   "language": "python",
   "name": "python3"
  },
  "language_info": {
   "codemirror_mode": {
    "name": "ipython",
    "version": 3
   },
   "file_extension": ".py",
   "mimetype": "text/x-python",
   "name": "python",
   "nbconvert_exporter": "python",
   "pygments_lexer": "ipython3",
   "version": "3.11.4"
  }
 },
 "nbformat": 4,
 "nbformat_minor": 5
}
