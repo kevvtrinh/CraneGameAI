{
 "cells": [
  {
   "cell_type": "markdown",
   "id": "868e499e",
   "metadata": {},
   "source": [
    "# Final Exam Project\n",
    "<font size=\"3\">  Created By:</font> \n",
    "\n",
    "<font size=\"4\"> Kevin Trinh, ktrinh2@jhu.edu</font> \n",
    "\n",
    "<font size=\"4\"> Wyatt Smyers, asmyers1@jh.edu</font> \n",
    "\n",
    "<font size=\"4\"> Johns Hopkins University, Engineering For Professionals</font> "
   ]
  },
  {
   "cell_type": "markdown",
   "id": "213fdce8",
   "metadata": {},
   "source": [
    "## Project Introduction\n"
   ]
  },
  {
   "cell_type": "markdown",
   "id": "f5b05ba0",
   "metadata": {},
   "source": [
    "# Educational Product Report: Deep Q-Network Application in Ball-Sorting Crane Game\n",
    "\n",
    "## 1. Introduction\n",
    "\n",
    "## 2. Problem Definition and Breakdown\n"
   ]
  },
  {
   "cell_type": "markdown",
   "id": "f786adbd",
   "metadata": {},
   "source": [
    "## 3. Selection of Computational Tools\n",
    "The `Arcade` library was selected to create the claw game.\n",
    "\n",
    "The `Gym` library was used to create the claw game environment for RL training.\n",
    "\n",
    "The `Pytorch` library was used to create the agent and set the policy for RL training.\n",
    "\n",
    "The `imageio` and `IPython` libraries were used to capture frames and generate videos for observing the AI playing the game.\n",
    "### Installing Dependencies\n",
    "Run the block below to install the necessary dependencies for training the AI yourself. "
   ]
  },
  {
   "cell_type": "code",
   "execution_count": null,
   "id": "08e96f08",
   "metadata": {},
   "outputs": [],
   "source": [
    "!pip install arcade\n",
    "!pip install pytorch \n",
    "!pip install gym\n",
    "!pip install imageio\n",
    "!pip install IPython"
   ]
  },
  {
   "cell_type": "markdown",
   "id": "c8510e57",
   "metadata": {},
   "source": [
    "## 4. Computational Model Development\n",
    "Model Description: Describe the DQN model and its role in learning the game strategy.\n",
    "Code Implementation:\n",
    "python\n",
    "Copy code\n",
    "import gym\n",
    "import numpy as np\n",
    "import torch\n",
    "import torch.nn as nn\n",
    " ... [rest of the imports and DQN class definition]\n",
    "## 5. Analysis and Optimization\n",
    "Game Environment Setup: Explain the BallSortCraneEnv class and its functions.\n",
    "Code Implementation:\n",
    "python\n",
    "Copy code\n",
    "class BallSortCraneEnv(gym.Env):\n",
    "     ... [environment class definition]\n",
    "env = BallSortCraneEnv()\n",
    "6. Post-Processing and Conclusion Drawing\n",
    "Training the Agent: Discuss the training loop and the role of replay memory.\n",
    "Code Snippet: Include key parts of the training loop and memory class.\n",
    "python\n",
    "Copy code\n",
    "\n",
    "## 7. Evaluation and Recommendations\n",
    "Performance Analysis: Use the reward plot to analyze the agent's performance.\n",
    "\n",
    "\n",
    "## 9. Check Your Understanding (CYU) Questions\n",
    "Incorporate CYU Questions: Include interactive questions related to DQN and reinforcement learning concepts.\n",
    "Answers and Explanations: Provide answers with detailed explanations.\n",
    "## 10. Conclusion\n",
    "Project Summary: Summarize key learnings and outcomes of the project.\n",
    "Reflection on Learning Outcomes: Reflect on the insights gained from implementing DQN in a game environment.\n",
    "\n"
   ]
  },
  {
   "cell_type": "code",
   "execution_count": null,
   "id": "71488f93",
   "metadata": {},
   "outputs": [],
   "source": []
  }
 ],
 "metadata": {
  "kernelspec": {
   "display_name": "Python 3 (ipykernel)",
   "language": "python",
   "name": "python3"
  },
  "language_info": {
   "codemirror_mode": {
    "name": "ipython",
    "version": 3
   },
   "file_extension": ".py",
   "mimetype": "text/x-python",
   "name": "python",
   "nbconvert_exporter": "python",
   "pygments_lexer": "ipython3",
   "version": "3.11.5"
  }
 },
 "nbformat": 4,
 "nbformat_minor": 5
}
